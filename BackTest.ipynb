{
  "nbformat": 4,
  "nbformat_minor": 0,
  "metadata": {
    "colab": {
      "name": "BackTest.ipynb",
      "provenance": [],
      "collapsed_sections": [],
      "authorship_tag": "ABX9TyPYxF1duwb+8cur3AydAjR2",
      "include_colab_link": true
    },
    "kernelspec": {
      "name": "python3",
      "display_name": "Python 3"
    }
  },
  "cells": [
    {
      "cell_type": "markdown",
      "metadata": {
        "id": "view-in-github",
        "colab_type": "text"
      },
      "source": [
        "<a href=\"https://colab.research.google.com/github/puneat/FuturesBacktestSystem/blob/main/BackTest.ipynb\" target=\"_parent\"><img src=\"https://colab.research.google.com/assets/colab-badge.svg\" alt=\"Open In Colab\"/></a>"
      ]
    },
    {
      "cell_type": "code",
      "metadata": {
        "id": "auBY4oMTRPXZ",
        "colab": {
          "base_uri": "https://localhost:8080/"
        },
        "outputId": "3c9d3460-08ae-46bf-d9ef-13505069d805"
      },
      "source": [
        "!git clone https://github.com/puneat/FuturesBacktestSystem.git\r\n",
        "\r\n",
        "!cp /content/FuturesBacktestSystem/strategyClasses.py .\r\n",
        "!cp /content/FuturesBacktestSystem/BackTest.py .\r\n",
        "!cp /content/FuturesBacktestSystem/DataProcessing.py .\r\n",
        "\r\n",
        "url = 'https://launchpad.net/~mario-mariomedina/+archive/ubuntu/talib/+files'\r\n",
        "!wget $url/libta-lib0_0.4.0-oneiric1_amd64.deb -qO libta.deb\r\n",
        "!wget $url/ta-lib0-dev_0.4.0-oneiric1_amd64.deb -qO ta.deb\r\n",
        "!dpkg -i libta.deb ta.deb\r\n",
        "!pip install ta-lib\r\n",
        "!pip3 install pyalgotrade"
      ],
      "execution_count": 1,
      "outputs": [
        {
          "output_type": "stream",
          "text": [
            "Cloning into 'FuturesBacktestSystem'...\n",
            "remote: Enumerating objects: 101, done.\u001b[K\n",
            "remote: Counting objects: 100% (101/101), done.\u001b[K\n",
            "remote: Compressing objects: 100% (98/98), done.\u001b[K\n",
            "remote: Total 101 (delta 48), reused 0 (delta 0), pack-reused 0\u001b[K\n",
            "Receiving objects: 100% (101/101), 1.25 MiB | 2.75 MiB/s, done.\n",
            "Resolving deltas: 100% (48/48), done.\n",
            "Selecting previously unselected package libta-lib0.\n",
            "(Reading database ... 160975 files and directories currently installed.)\n",
            "Preparing to unpack libta.deb ...\n",
            "Unpacking libta-lib0 (0.4.0-oneiric1) ...\n",
            "Selecting previously unselected package ta-lib0-dev.\n",
            "Preparing to unpack ta.deb ...\n",
            "Unpacking ta-lib0-dev (0.4.0-oneiric1) ...\n",
            "Setting up libta-lib0 (0.4.0-oneiric1) ...\n",
            "Setting up ta-lib0-dev (0.4.0-oneiric1) ...\n",
            "Processing triggers for man-db (2.8.3-2ubuntu0.1) ...\n",
            "Processing triggers for libc-bin (2.27-3ubuntu1.2) ...\n",
            "/sbin/ldconfig.real: /usr/local/lib/python3.7/dist-packages/ideep4py/lib/libmkldnn.so.0 is not a symbolic link\n",
            "\n",
            "Collecting ta-lib\n",
            "\u001b[?25l  Downloading https://files.pythonhosted.org/packages/ac/cf/681911aa31e04ba171ab4d523a412f4a746e30d3eacb1738799d181e028b/TA-Lib-0.4.19.tar.gz (267kB)\n",
            "\u001b[K     |████████████████████████████████| 276kB 11.7MB/s \n",
            "\u001b[?25hRequirement already satisfied: numpy in /usr/local/lib/python3.7/dist-packages (from ta-lib) (1.19.5)\n",
            "Building wheels for collected packages: ta-lib\n",
            "  Building wheel for ta-lib (setup.py) ... \u001b[?25l\u001b[?25hdone\n",
            "  Created wheel for ta-lib: filename=TA_Lib-0.4.19-cp37-cp37m-linux_x86_64.whl size=1437961 sha256=1fcbf0c8939305163640405ef366bba5a3b08068c079cbf6d70a6ca604ded228\n",
            "  Stored in directory: /root/.cache/pip/wheels/a3/f6/12/3d1ccd06caadd8fa47e016991dd0d27f1163bb260f1854e2ff\n",
            "Successfully built ta-lib\n",
            "Installing collected packages: ta-lib\n",
            "Successfully installed ta-lib-0.4.19\n",
            "Collecting pyalgotrade\n",
            "\u001b[?25l  Downloading https://files.pythonhosted.org/packages/e1/57/4416e9143ac48ba935f858abd096ec336c15786662e640b16c7854b10480/PyAlgoTrade-0.20.tar.gz (84kB)\n",
            "\u001b[K     |████████████████████████████████| 92kB 5.3MB/s \n",
            "\u001b[?25hRequirement already satisfied: matplotlib in /usr/local/lib/python3.7/dist-packages (from pyalgotrade) (3.2.2)\n",
            "Requirement already satisfied: numpy in /usr/local/lib/python3.7/dist-packages (from pyalgotrade) (1.19.5)\n",
            "Requirement already satisfied: python-dateutil in /usr/local/lib/python3.7/dist-packages (from pyalgotrade) (2.8.1)\n",
            "Requirement already satisfied: pytz in /usr/local/lib/python3.7/dist-packages (from pyalgotrade) (2018.9)\n",
            "Requirement already satisfied: requests in /usr/local/lib/python3.7/dist-packages (from pyalgotrade) (2.23.0)\n",
            "Requirement already satisfied: retrying in /usr/local/lib/python3.7/dist-packages (from pyalgotrade) (1.3.3)\n",
            "Requirement already satisfied: scipy in /usr/local/lib/python3.7/dist-packages (from pyalgotrade) (1.4.1)\n",
            "Requirement already satisfied: six in /usr/local/lib/python3.7/dist-packages (from pyalgotrade) (1.15.0)\n",
            "Requirement already satisfied: tornado in /usr/local/lib/python3.7/dist-packages (from pyalgotrade) (5.1.1)\n",
            "Requirement already satisfied: tweepy in /usr/local/lib/python3.7/dist-packages (from pyalgotrade) (3.10.0)\n",
            "Collecting ws4py>=0.3.4\n",
            "\u001b[?25l  Downloading https://files.pythonhosted.org/packages/53/20/4019a739b2eefe9282d3822ef6a225250af964b117356971bd55e274193c/ws4py-0.5.1.tar.gz (51kB)\n",
            "\u001b[K     |████████████████████████████████| 61kB 4.5MB/s \n",
            "\u001b[?25hRequirement already satisfied: cycler>=0.10 in /usr/local/lib/python3.7/dist-packages (from matplotlib->pyalgotrade) (0.10.0)\n",
            "Requirement already satisfied: kiwisolver>=1.0.1 in /usr/local/lib/python3.7/dist-packages (from matplotlib->pyalgotrade) (1.3.1)\n",
            "Requirement already satisfied: pyparsing!=2.0.4,!=2.1.2,!=2.1.6,>=2.0.1 in /usr/local/lib/python3.7/dist-packages (from matplotlib->pyalgotrade) (2.4.7)\n",
            "Requirement already satisfied: idna<3,>=2.5 in /usr/local/lib/python3.7/dist-packages (from requests->pyalgotrade) (2.10)\n",
            "Requirement already satisfied: urllib3!=1.25.0,!=1.25.1,<1.26,>=1.21.1 in /usr/local/lib/python3.7/dist-packages (from requests->pyalgotrade) (1.24.3)\n",
            "Requirement already satisfied: chardet<4,>=3.0.2 in /usr/local/lib/python3.7/dist-packages (from requests->pyalgotrade) (3.0.4)\n",
            "Requirement already satisfied: certifi>=2017.4.17 in /usr/local/lib/python3.7/dist-packages (from requests->pyalgotrade) (2020.12.5)\n",
            "Requirement already satisfied: requests-oauthlib>=0.7.0 in /usr/local/lib/python3.7/dist-packages (from tweepy->pyalgotrade) (1.3.0)\n",
            "Requirement already satisfied: oauthlib>=3.0.0 in /usr/local/lib/python3.7/dist-packages (from requests-oauthlib>=0.7.0->tweepy->pyalgotrade) (3.1.0)\n",
            "Building wheels for collected packages: pyalgotrade, ws4py\n",
            "  Building wheel for pyalgotrade (setup.py) ... \u001b[?25l\u001b[?25hdone\n",
            "  Created wheel for pyalgotrade: filename=PyAlgoTrade-0.20-cp37-none-any.whl size=159543 sha256=8af60c464c51ebd8e022d219bc048f01050d775db031f5e34a6d55c483784d93\n",
            "  Stored in directory: /root/.cache/pip/wheels/12/b8/69/31e68bb2e66b8003d95ca66578721957a5f6c647363ee16cf2\n",
            "  Building wheel for ws4py (setup.py) ... \u001b[?25l\u001b[?25hdone\n",
            "  Created wheel for ws4py: filename=ws4py-0.5.1-cp37-none-any.whl size=45216 sha256=a47b57280ed29932e951d2400e150c4841ba266854a252e9d9e37e376d9fcbd7\n",
            "  Stored in directory: /root/.cache/pip/wheels/a2/6e/4e/8b0ae12fb9b8a05715256952cf7609a8ab86285fab99b88c68\n",
            "Successfully built pyalgotrade ws4py\n",
            "Installing collected packages: ws4py, pyalgotrade\n",
            "Successfully installed pyalgotrade-0.20 ws4py-0.5.1\n"
          ],
          "name": "stdout"
        }
      ]
    },
    {
      "cell_type": "code",
      "metadata": {
        "colab": {
          "base_uri": "https://localhost:8080/"
        },
        "id": "sZD-XcSbRgkE",
        "outputId": "584979aa-08e8-4df4-bd6f-74059f58f065"
      },
      "source": [
        "from google.colab import drive\r\n",
        "drive.mount('/gdrive')"
      ],
      "execution_count": 56,
      "outputs": [
        {
          "output_type": "stream",
          "text": [
            "Drive already mounted at /gdrive; to attempt to forcibly remount, call drive.mount(\"/gdrive\", force_remount=True).\n"
          ],
          "name": "stdout"
        }
      ]
    },
    {
      "cell_type": "code",
      "metadata": {
        "id": "iqOYZULMRm2b"
      },
      "source": [
        "from __future__ import print_function\r\n",
        "from pyalgotrade import plotter\r\n",
        "from pyalgotrade.stratanalyzer import returns\r\n",
        "from pyalgotrade.talibext import indicator\r\n",
        "import matplotlib.pyplot as plt\r\n",
        "from datetime import datetime\r\n",
        "from pyalgotrade.barfeed.csvfeed import GenericBarFeed\r\n",
        "from pyalgotrade.bar import Frequency\r\n",
        "import pandas as pd\r\n",
        "import strategyClasses\r\n",
        "import BackTest\r\n",
        "from DataProcessing import process_data, metrics, cumulativeReturnsPlot\r\n",
        "import talib\r\n",
        "from talib import MA_Type\r\n",
        "import numpy as np\r\n",
        "from pyalgotrade import plotter\r\n",
        "from pyalgotrade.stratanalyzer import trades\r\n",
        "from pyalgotrade.stratanalyzer import returns\r\n",
        "from pyalgotrade.stratanalyzer import sharpe\r\n",
        "from pyalgotrade.stratanalyzer import drawdown\r\n",
        "from pyalgotrade import broker as basebroker\r\n",
        "from tqdm import tqdm\r\n",
        "import seaborn as sns; sns.set_theme()\r\n",
        "from os import listdir\r\n",
        "from os.path import isfile, join\r\n",
        "\r\n",
        "# import talib\r\n",
        "plt.rcParams['figure.figsize'] = (30.0, 15.0)"
      ],
      "execution_count": 5,
      "outputs": []
    },
    {
      "cell_type": "code",
      "metadata": {
        "id": "pOVKye_5QLpU"
      },
      "source": [
        "from pyalgotrade.barfeed.csvfeed import GenericBarFeed\r\n",
        "from pyalgotrade.bar import Frequency\r\n",
        "from pyalgotrade import strategy\r\n",
        "from pyalgotrade.technical import ma\r\n",
        "from pyalgotrade.technical import rsi\r\n",
        "from pyalgotrade.technical import cross\r\n",
        "from pyalgotrade.technical.bollinger import BollingerBands\r\n",
        "from pyalgotrade.technical.macd import MACD\r\n",
        "from pyalgotrade.technical.stoch import StochasticOscillator\r\n",
        "from pyalgotrade.broker.backtesting import Broker\r\n",
        "from pyalgotrade.technical.vwap import VWAP\r\n",
        "from pyalgotrade import plotter\r\n",
        "from pyalgotrade.stratanalyzer import trades\r\n",
        "from pyalgotrade.stratanalyzer import returns\r\n",
        "from pyalgotrade.stratanalyzer import sharpe\r\n",
        "from pyalgotrade.stratanalyzer import drawdown\r\n",
        "from pyalgotrade import broker as basebroker\r\n",
        "\r\n",
        "class ATR_talib():\r\n",
        "    def __init__(self, #fixed\r\n",
        "               priceDS, #fixed\r\n",
        "               priceBarDS,  #fixed\r\n",
        "               trixFarPeriod = 14,\r\n",
        "               trixNearPeriod = 7): #custom\r\n",
        "    # prices\r\n",
        "        self.priceDS = priceDS\r\n",
        "        self.priceBarDS = priceBarDS\r\n",
        "        self.trixNearPeriod = trixNearPeriod\r\n",
        "        self.trixFarPeriod = trixFarPeriod\r\n",
        "        self.atr_ts_low = -10000\r\n",
        "        self.atr_ts_high = 10000\r\n",
        "\r\n",
        "\r\n",
        "\r\n",
        "    def enterLongSignal(self, extPriceBarDS, extPriceDS):\r\n",
        "        atr = indicator.ATR( extPriceBarDS,\r\n",
        "                            count=100,\r\n",
        "                            timeperiod=7)\r\n",
        "        \r\n",
        "        atr_ts = atr[-1]*2\r\n",
        "        if self.atr_ts_low == -10000 and self.atr_ts_high == 10000:\r\n",
        "          self.atr_ts_low =  extPriceDS.__getitem__(0) - atr_ts\r\n",
        "          self.atr_ts_high = extPriceDS.__getitem__(0)  + atr_ts\r\n",
        "          longEntryFilter_1 = False\r\n",
        "\r\n",
        "        else:\r\n",
        "          longEntryFilter_1 = extPriceDS.__getitem__(0) > self.atr_ts_high\r\n",
        "          self.atr_ts_low =  extPriceDS.__getitem__(0) - atr_ts\r\n",
        "          self.atr_ts_high = extPriceDS.__getitem__(0)  + atr_ts\r\n",
        "\r\n",
        "        return longEntryFilter_1\r\n",
        "\r\n",
        "    def exitLongSignal(self, longPos, extPriceBarDS, extPriceDS):\r\n",
        "        longExitFilter_1 = extPriceDS.__getitem__(0) < (self.atr_ts_high)\r\n",
        "\r\n",
        "        longExitFilter_2 = longPos.exitActive()\r\n",
        "\r\n",
        "        return longExitFilter_1 and not longExitFilter_2\r\n",
        "\r\n",
        "    def enterShortSignal(self,extPriceBarDS, extPriceDS):\r\n",
        "        atr = indicator.ATR( extPriceBarDS,\r\n",
        "                            count=100,\r\n",
        "                            timeperiod=7)\r\n",
        "        \r\n",
        "        atr_ts = atr[-1]*2\r\n",
        "        if self.atr_ts_low == -10000 and self.atr_ts_high == 10000:\r\n",
        "          self.atr_ts_low =  extPriceDS.__getitem__(0) - atr_ts\r\n",
        "          self.atr_ts_high = extPriceDS.__getitem__(0)  + atr_ts\r\n",
        "          shortEntryFilter_1 = False\r\n",
        "\r\n",
        "        else:\r\n",
        "          shortEntryFilter_1 = extPriceDS.__getitem__(0) < self.atr_ts_low\r\n",
        "          self.atr_ts_low =  extPriceDS.__getitem__(0) - atr_ts\r\n",
        "          self.atr_ts_high = extPriceDS.__getitem__(0)  + atr_ts\r\n",
        "\r\n",
        "        return shortEntryFilter_1\r\n",
        "\r\n",
        "    def exitShortSignal(self, shortPos, extPriceBarDS, extPriceDS):\r\n",
        "\r\n",
        "        shortExitFilter_1 = extPriceDS.__getitem__(0) > (self.atr_ts_low)\r\n",
        "        shortExitFilter_2 = shortPos.exitActive()\r\n",
        "\r\n",
        "\r\n",
        "        return shortExitFilter_1 and not shortExitFilter_2"
      ],
      "execution_count": null,
      "outputs": []
    },
    {
      "cell_type": "code",
      "metadata": {
        "id": "WBxnsAwHgvE5"
      },
      "source": [
        "def testStrategy(plot, path):\r\n",
        "    instrument = 'ZS'\r\n",
        "    # Load the bars.\r\n",
        "    feed = GenericBarFeed(Frequency.TRADE, timezone=None, maxLen=1300000)\r\n",
        "    feed.setDateTimeFormat(\"%Y-%m-%d %H:%M:%S\")\r\n",
        "    #feed.addBarsFromCSV(instrument,'/content/FuturesBacktestSystem/data/ZS_C1_15m.csv')\r\n",
        "    feed.addBarsFromCSV(instrument, path,)\r\n",
        "    #feed.addBarsFromCSV(instrument,'/content/ZS_C1C2_15m_shifted')\r\n",
        "    priceDS = feed[instrument].getPriceDataSeries()\r\n",
        "    priceBarDS = feed.getDataSeries(instrument)\r\n",
        "\r\n",
        "    #create desired strategy class object\r\n",
        "    strat = strategyClasses.BO_RSI_SO_talib(priceDS,\r\n",
        "                           priceBarDS,\r\n",
        "                           bBandsPeriod = 14,\r\n",
        "                           rsiPeriod = 7,\r\n",
        "                           soPeriod = 7,\r\n",
        "                           soDPeriod=3,\r\n",
        "                           overBoughtThreshold = 70,\r\n",
        "                           overSoldThreshold = 30,\r\n",
        "                           numStdDev = 2)\r\n",
        "    \r\n",
        "    # strat = ATR_talib(priceDS,\r\n",
        "    #                    priceBarDS,\r\n",
        "    #                    trixFarPeriod = 14,\r\n",
        "    #                    trixNearPeriod = 7)\r\n",
        "\r\n",
        "    # pass strategy to backtest system\r\n",
        "    back = BackTest.BacktestSystem(feed,\r\n",
        "                          instrument = instrument,\r\n",
        "                          strategyClass = strat,\r\n",
        "                          payupTicks = 1,\r\n",
        "                          stopLossTicks = 4,\r\n",
        "                          tickValue = 0.25,\r\n",
        "                          startingMoney = 100000, # in cents\r\n",
        "                          GTC = False,\r\n",
        "                          AON = False,\r\n",
        "                          lotSize = 1,\r\n",
        "                          printOrders = False)\r\n",
        "    \r\n",
        "    # attach return analyzer\r\n",
        "    retAnalyzer = returns.Returns(maxLen=13000000)\r\n",
        "    back.attachAnalyzer(retAnalyzer)\r\n",
        "\r\n",
        "    tradeAnalyzer = trades.Trades()\r\n",
        "    back.attachAnalyzer(tradeAnalyzer)\r\n",
        "\r\n",
        "    sharpeAnalyzer = sharpe.SharpeRatio()\r\n",
        "    back.attachAnalyzer(sharpeAnalyzer)\r\n",
        "\r\n",
        "    drawdownAnalyzer = drawdown.DrawDown()\r\n",
        "    back.attachAnalyzer(drawdownAnalyzer )\r\n",
        "\r\n",
        "    if plot:\r\n",
        "        plt = plotter.StrategyPlotter(back, True, True, False)\r\n",
        "        # plt.getInstrumentSubplot(instrument).addDataSeries(\"upper\", strat.bbands.getUpperBand())\r\n",
        "        # plt.getInstrumentSubplot(instrument).addDataSeries(\"middle\", strat.bbands.getMiddleBand())\r\n",
        "        # plt.getInstrumentSubplot(instrument).addDataSeries(\"lower\", strat.bbands.getLowerBand())\r\n",
        "\r\n",
        "    cumRet = retAnalyzer.getCumulativeReturns()\r\n",
        "\r\n",
        "    back.run()\r\n",
        "    # back.info(\"Final portfolio value: $%.2f\" % back.getResult())\r\n",
        "\r\n",
        "    # print(\"Strategy P&L: Ticks\", (back.getResult()-back.startingMoney)/back.tickValue)\r\n",
        "    # print(\"Total Trades: \", (tradeAnalyzer.getCount()))\r\n",
        "    # print(\"Unprofitable Trades: \", (tradeAnalyzer.getUnprofitableCount()))\r\n",
        "    # print(\"Profitable Trades: \", (tradeAnalyzer.getProfitableCount()))\r\n",
        "    # print(\"Break-Even Trades: \", (tradeAnalyzer.getEvenCount()))\r\n",
        "\r\n",
        "    log_df = metrics(tradeAnalyzer, back, sharpeAnalyzer, drawdownAnalyzer, retAnalyzer)\r\n",
        "\r\n",
        "    trades_pnl = tradeAnalyzer.getAll()\r\n",
        "    trades_ret = tradeAnalyzer.getAllReturns()\r\n",
        "\r\n",
        "    if plot:\r\n",
        "        plt.plot()\r\n",
        "        cumulativeReturnsPlot(cumRet)\r\n",
        "\r\n",
        "    return trades_pnl, trades_ret, cumRet, log_df"
      ],
      "execution_count": 47,
      "outputs": []
    },
    {
      "cell_type": "code",
      "metadata": {
        "id": "Xl7Vi3mAfoME"
      },
      "source": [
        "pnl, ret, cum_ret, logs = testStrategy(True, path = '/gdrive/My Drive/Data/10min/Mar17.csv')"
      ],
      "execution_count": null,
      "outputs": []
    },
    {
      "cell_type": "code",
      "metadata": {
        "colab": {
          "base_uri": "https://localhost:8080/",
          "height": 430
        },
        "id": "cq661akmIO31",
        "outputId": "f75b9bc0-3278-46fd-a995-6ba904f450c9"
      },
      "source": [
        "# mypath = '/gdrive/My Drive/Data/1min/'\r\n",
        "# onlyfiles = [f for f in listdir(mypath) if isfile(join(mypath, f))]\r\n",
        "onlyfiles = ['Mar15.csv','May15.csv','Jul15.csv','Aug15.csv','Sep15.csv','Nov15.csv',\r\n",
        "'Jan16.csv','Mar16.csv','May16.csv','Jul16.csv','Aug16.csv','Sep16.csv','Nov16.csv',\r\n",
        "'Jan17.csv','Mar17.csv','May17.csv','Jul17.csv','Aug17.csv','Sep17.csv','Nov17.csv',\r\n",
        "'Jan18.csv','Mar18.csv','May18.csv','Jul18.csv','Aug18.csv','Sep18.csv','Nov18.csv',\r\n",
        "'Jan19.csv','Mar19.csv','May19.csv','Jul19.csv','Aug19.csv','Sep19.csv','Nov19.csv',\r\n",
        "'Jan20.csv','Mar20.csv','May20.csv','Jul20.csv','Aug20.csv','Sep20.csv','Nov20.csv',\r\n",
        "'Jan21.csv','Mar21.csv','May21.csv','Jul21.csv','Aug21.csv']\r\n",
        "\r\n",
        "all_df = {}\r\n",
        "p_list = ['1min','15min']\r\n",
        "for per in p_list:\r\n",
        "  print(per)\r\n",
        "  all_df = {}\r\n",
        "  mypath = '/gdrive/My Drive/Data/' + per +'/'\r\n",
        "  for i in tqdm(range(0, len(onlyfiles))):\r\n",
        "    input_path = mypath + onlyfiles[i]\r\n",
        "    pnl, ret, cum_ret, logs = testStrategy(False, path = input_path)\r\n",
        "  # save_path = '/gdrive/My Drive/Data/BORSISO/' + onlyfiles[i]\r\n",
        "  # logs.to_csv(save_path)\r\n",
        "    all_df[onlyfiles[i].split('.')[0]] = logs\r\n",
        "\r\n",
        "    # price=[]\r\n",
        "    # for j in range(0, cum_ret.__len__()):\r\n",
        "    #   price.append(cum_ret.__getitem__(j))\r\n",
        "\r\n",
        "    # mydict = {'date':cum_ret.getDateTimes(),\r\n",
        "    #           'ret':price}\r\n",
        "\r\n",
        "    # mydict = pd.DataFrame(mydict)\r\n",
        "    # mydict.set_index(keys='date',inplace=True)\r\n",
        "    # target = mydict.groupby(mydict.index.date).mean()*100000/0.25\r\n",
        "\r\n",
        "    # fig = plt.figure(figsize=[15,6])\r\n",
        "    # ax = fig.add_axes([0,0,1,1])\r\n",
        "    # ax.plot(target)\r\n",
        "    # ax.set_xlabel('Time (daily)')\r\n",
        "    # ax.set_ylabel('Cumulative Ticks')\r\n",
        "    # ax.set_title(onlyfiles[i].split('.')[0])\r\n",
        "    # plt.savefig('/gdrive/My Drive/Data/BORSISO/plots_'+ per + 's/' + onlyfiles[i].split('.')[0] + '.png', bbox_inches='tight')\r\n",
        "    # plt.close(fig='all')\r\n",
        "\r\n",
        "  trade_df = pd.DataFrame(all_df)\r\n",
        "  trade_df.to_csv('/gdrive/My Drive/Data/BORSISO/backtest_result_test_new_'+ per + 's.csv')"
      ],
      "execution_count": 51,
      "outputs": [
        {
          "output_type": "stream",
          "text": [
            "\n",
            "  0%|          | 0/46 [00:00<?, ?it/s]\u001b[A"
          ],
          "name": "stderr"
        },
        {
          "output_type": "stream",
          "text": [
            "1min\n"
          ],
          "name": "stdout"
        },
        {
          "output_type": "error",
          "ename": "KeyboardInterrupt",
          "evalue": "ignored",
          "traceback": [
            "\u001b[0;31m---------------------------------------------------------------------------\u001b[0m",
            "\u001b[0;31mKeyboardInterrupt\u001b[0m                         Traceback (most recent call last)",
            "\u001b[0;32m<ipython-input-51-527b0a9c478e>\u001b[0m in \u001b[0;36m<module>\u001b[0;34m()\u001b[0m\n\u001b[1;32m     17\u001b[0m   \u001b[0;32mfor\u001b[0m \u001b[0mi\u001b[0m \u001b[0;32min\u001b[0m \u001b[0mtqdm\u001b[0m\u001b[0;34m(\u001b[0m\u001b[0mrange\u001b[0m\u001b[0;34m(\u001b[0m\u001b[0;36m0\u001b[0m\u001b[0;34m,\u001b[0m \u001b[0mlen\u001b[0m\u001b[0;34m(\u001b[0m\u001b[0monlyfiles\u001b[0m\u001b[0;34m)\u001b[0m\u001b[0;34m)\u001b[0m\u001b[0;34m)\u001b[0m\u001b[0;34m:\u001b[0m\u001b[0;34m\u001b[0m\u001b[0;34m\u001b[0m\u001b[0m\n\u001b[1;32m     18\u001b[0m     \u001b[0minput_path\u001b[0m \u001b[0;34m=\u001b[0m \u001b[0mmypath\u001b[0m \u001b[0;34m+\u001b[0m \u001b[0monlyfiles\u001b[0m\u001b[0;34m[\u001b[0m\u001b[0mi\u001b[0m\u001b[0;34m]\u001b[0m\u001b[0;34m\u001b[0m\u001b[0;34m\u001b[0m\u001b[0m\n\u001b[0;32m---> 19\u001b[0;31m     \u001b[0mpnl\u001b[0m\u001b[0;34m,\u001b[0m \u001b[0mret\u001b[0m\u001b[0;34m,\u001b[0m \u001b[0mcum_ret\u001b[0m\u001b[0;34m,\u001b[0m \u001b[0mlogs\u001b[0m \u001b[0;34m=\u001b[0m \u001b[0mtestStrategy\u001b[0m\u001b[0;34m(\u001b[0m\u001b[0;32mFalse\u001b[0m\u001b[0;34m,\u001b[0m \u001b[0mpath\u001b[0m \u001b[0;34m=\u001b[0m \u001b[0minput_path\u001b[0m\u001b[0;34m)\u001b[0m\u001b[0;34m\u001b[0m\u001b[0;34m\u001b[0m\u001b[0m\n\u001b[0m\u001b[1;32m     20\u001b[0m   \u001b[0;31m# save_path = '/gdrive/My Drive/Data/BORSISO/' + onlyfiles[i]\u001b[0m\u001b[0;34m\u001b[0m\u001b[0;34m\u001b[0m\u001b[0;34m\u001b[0m\u001b[0m\n\u001b[1;32m     21\u001b[0m   \u001b[0;31m# logs.to_csv(save_path)\u001b[0m\u001b[0;34m\u001b[0m\u001b[0;34m\u001b[0m\u001b[0;34m\u001b[0m\u001b[0m\n",
            "\u001b[0;32m<ipython-input-47-fe2ae247edb0>\u001b[0m in \u001b[0;36mtestStrategy\u001b[0;34m(plot, path)\u001b[0m\n\u001b[1;32m     60\u001b[0m     \u001b[0mcumRet\u001b[0m \u001b[0;34m=\u001b[0m \u001b[0mretAnalyzer\u001b[0m\u001b[0;34m.\u001b[0m\u001b[0mgetCumulativeReturns\u001b[0m\u001b[0;34m(\u001b[0m\u001b[0;34m)\u001b[0m\u001b[0;34m\u001b[0m\u001b[0;34m\u001b[0m\u001b[0m\n\u001b[1;32m     61\u001b[0m \u001b[0;34m\u001b[0m\u001b[0m\n\u001b[0;32m---> 62\u001b[0;31m     \u001b[0mback\u001b[0m\u001b[0;34m.\u001b[0m\u001b[0mrun\u001b[0m\u001b[0;34m(\u001b[0m\u001b[0;34m)\u001b[0m\u001b[0;34m\u001b[0m\u001b[0;34m\u001b[0m\u001b[0m\n\u001b[0m\u001b[1;32m     63\u001b[0m     \u001b[0;31m# back.info(\"Final portfolio value: $%.2f\" % back.getResult())\u001b[0m\u001b[0;34m\u001b[0m\u001b[0;34m\u001b[0m\u001b[0;34m\u001b[0m\u001b[0m\n\u001b[1;32m     64\u001b[0m \u001b[0;34m\u001b[0m\u001b[0m\n",
            "\u001b[0;32m/usr/local/lib/python3.7/dist-packages/pyalgotrade/strategy/__init__.py\u001b[0m in \u001b[0;36mrun\u001b[0;34m(self)\u001b[0m\n\u001b[1;32m    512\u001b[0m     \u001b[0;32mdef\u001b[0m \u001b[0mrun\u001b[0m\u001b[0;34m(\u001b[0m\u001b[0mself\u001b[0m\u001b[0;34m)\u001b[0m\u001b[0;34m:\u001b[0m\u001b[0;34m\u001b[0m\u001b[0;34m\u001b[0m\u001b[0m\n\u001b[1;32m    513\u001b[0m         \u001b[0;34m\"\"\"Call once (**and only once**) to run the strategy.\"\"\"\u001b[0m\u001b[0;34m\u001b[0m\u001b[0;34m\u001b[0m\u001b[0m\n\u001b[0;32m--> 514\u001b[0;31m         \u001b[0mself\u001b[0m\u001b[0;34m.\u001b[0m\u001b[0m__dispatcher\u001b[0m\u001b[0;34m.\u001b[0m\u001b[0mrun\u001b[0m\u001b[0;34m(\u001b[0m\u001b[0;34m)\u001b[0m\u001b[0;34m\u001b[0m\u001b[0;34m\u001b[0m\u001b[0m\n\u001b[0m\u001b[1;32m    515\u001b[0m \u001b[0;34m\u001b[0m\u001b[0m\n\u001b[1;32m    516\u001b[0m         \u001b[0;32mif\u001b[0m \u001b[0mself\u001b[0m\u001b[0;34m.\u001b[0m\u001b[0m__barFeed\u001b[0m\u001b[0;34m.\u001b[0m\u001b[0mgetCurrentBars\u001b[0m\u001b[0;34m(\u001b[0m\u001b[0;34m)\u001b[0m \u001b[0;32mis\u001b[0m \u001b[0;32mnot\u001b[0m \u001b[0;32mNone\u001b[0m\u001b[0;34m:\u001b[0m\u001b[0;34m\u001b[0m\u001b[0;34m\u001b[0m\u001b[0m\n",
            "\u001b[0;32m/usr/local/lib/python3.7/dist-packages/pyalgotrade/dispatcher.py\u001b[0m in \u001b[0;36mrun\u001b[0;34m(self)\u001b[0m\n\u001b[1;32m    107\u001b[0m \u001b[0;34m\u001b[0m\u001b[0m\n\u001b[1;32m    108\u001b[0m             \u001b[0;32mwhile\u001b[0m \u001b[0;32mnot\u001b[0m \u001b[0mself\u001b[0m\u001b[0;34m.\u001b[0m\u001b[0m__stop\u001b[0m\u001b[0;34m:\u001b[0m\u001b[0;34m\u001b[0m\u001b[0;34m\u001b[0m\u001b[0m\n\u001b[0;32m--> 109\u001b[0;31m                 \u001b[0meof\u001b[0m\u001b[0;34m,\u001b[0m \u001b[0meventsDispatched\u001b[0m \u001b[0;34m=\u001b[0m \u001b[0mself\u001b[0m\u001b[0;34m.\u001b[0m\u001b[0m__dispatch\u001b[0m\u001b[0;34m(\u001b[0m\u001b[0;34m)\u001b[0m\u001b[0;34m\u001b[0m\u001b[0;34m\u001b[0m\u001b[0m\n\u001b[0m\u001b[1;32m    110\u001b[0m                 \u001b[0;32mif\u001b[0m \u001b[0meof\u001b[0m\u001b[0;34m:\u001b[0m\u001b[0;34m\u001b[0m\u001b[0;34m\u001b[0m\u001b[0m\n\u001b[1;32m    111\u001b[0m                     \u001b[0mself\u001b[0m\u001b[0;34m.\u001b[0m\u001b[0m__stop\u001b[0m \u001b[0;34m=\u001b[0m \u001b[0;32mTrue\u001b[0m\u001b[0;34m\u001b[0m\u001b[0;34m\u001b[0m\u001b[0m\n",
            "\u001b[0;32m/usr/local/lib/python3.7/dist-packages/pyalgotrade/dispatcher.py\u001b[0m in \u001b[0;36m__dispatch\u001b[0;34m(self)\u001b[0m\n\u001b[1;32m     95\u001b[0m \u001b[0;34m\u001b[0m\u001b[0m\n\u001b[1;32m     96\u001b[0m             \u001b[0;32mfor\u001b[0m \u001b[0msubject\u001b[0m \u001b[0;32min\u001b[0m \u001b[0mself\u001b[0m\u001b[0;34m.\u001b[0m\u001b[0m__subjects\u001b[0m\u001b[0;34m:\u001b[0m\u001b[0;34m\u001b[0m\u001b[0;34m\u001b[0m\u001b[0m\n\u001b[0;32m---> 97\u001b[0;31m                 \u001b[0;32mif\u001b[0m \u001b[0mself\u001b[0m\u001b[0;34m.\u001b[0m\u001b[0m__dispatchSubject\u001b[0m\u001b[0;34m(\u001b[0m\u001b[0msubject\u001b[0m\u001b[0;34m,\u001b[0m \u001b[0msmallestDateTime\u001b[0m\u001b[0;34m)\u001b[0m\u001b[0;34m:\u001b[0m\u001b[0;34m\u001b[0m\u001b[0;34m\u001b[0m\u001b[0m\n\u001b[0m\u001b[1;32m     98\u001b[0m                     \u001b[0meventsDispatched\u001b[0m \u001b[0;34m=\u001b[0m \u001b[0;32mTrue\u001b[0m\u001b[0;34m\u001b[0m\u001b[0;34m\u001b[0m\u001b[0m\n\u001b[1;32m     99\u001b[0m         \u001b[0;32mreturn\u001b[0m \u001b[0meof\u001b[0m\u001b[0;34m,\u001b[0m \u001b[0meventsDispatched\u001b[0m\u001b[0;34m\u001b[0m\u001b[0;34m\u001b[0m\u001b[0m\n",
            "\u001b[0;32m/usr/local/lib/python3.7/dist-packages/pyalgotrade/dispatcher.py\u001b[0m in \u001b[0;36m__dispatchSubject\u001b[0;34m(self, subject, currEventDateTime)\u001b[0m\n\u001b[1;32m     73\u001b[0m         \u001b[0;31m# Dispatch if the datetime is currEventDateTime of if its a realtime subject.\u001b[0m\u001b[0;34m\u001b[0m\u001b[0;34m\u001b[0m\u001b[0;34m\u001b[0m\u001b[0m\n\u001b[1;32m     74\u001b[0m         \u001b[0;32mif\u001b[0m \u001b[0;32mnot\u001b[0m \u001b[0msubject\u001b[0m\u001b[0;34m.\u001b[0m\u001b[0meof\u001b[0m\u001b[0;34m(\u001b[0m\u001b[0;34m)\u001b[0m \u001b[0;32mand\u001b[0m \u001b[0msubject\u001b[0m\u001b[0;34m.\u001b[0m\u001b[0mpeekDateTime\u001b[0m\u001b[0;34m(\u001b[0m\u001b[0;34m)\u001b[0m \u001b[0;32min\u001b[0m \u001b[0;34m(\u001b[0m\u001b[0;32mNone\u001b[0m\u001b[0;34m,\u001b[0m \u001b[0mcurrEventDateTime\u001b[0m\u001b[0;34m)\u001b[0m\u001b[0;34m:\u001b[0m\u001b[0;34m\u001b[0m\u001b[0;34m\u001b[0m\u001b[0m\n\u001b[0;32m---> 75\u001b[0;31m             \u001b[0mret\u001b[0m \u001b[0;34m=\u001b[0m \u001b[0msubject\u001b[0m\u001b[0;34m.\u001b[0m\u001b[0mdispatch\u001b[0m\u001b[0;34m(\u001b[0m\u001b[0;34m)\u001b[0m \u001b[0;32mis\u001b[0m \u001b[0;32mTrue\u001b[0m\u001b[0;34m\u001b[0m\u001b[0;34m\u001b[0m\u001b[0m\n\u001b[0m\u001b[1;32m     76\u001b[0m         \u001b[0;32mreturn\u001b[0m \u001b[0mret\u001b[0m\u001b[0;34m\u001b[0m\u001b[0;34m\u001b[0m\u001b[0m\n\u001b[1;32m     77\u001b[0m \u001b[0;34m\u001b[0m\u001b[0m\n",
            "\u001b[0;32m/usr/local/lib/python3.7/dist-packages/pyalgotrade/feed/__init__.py\u001b[0m in \u001b[0;36mdispatch\u001b[0;34m(self)\u001b[0m\n\u001b[1;32m    106\u001b[0m         \u001b[0mdateTime\u001b[0m\u001b[0;34m,\u001b[0m \u001b[0mvalues\u001b[0m \u001b[0;34m=\u001b[0m \u001b[0mself\u001b[0m\u001b[0;34m.\u001b[0m\u001b[0mgetNextValuesAndUpdateDS\u001b[0m\u001b[0;34m(\u001b[0m\u001b[0;34m)\u001b[0m\u001b[0;34m\u001b[0m\u001b[0;34m\u001b[0m\u001b[0m\n\u001b[1;32m    107\u001b[0m         \u001b[0;32mif\u001b[0m \u001b[0mdateTime\u001b[0m \u001b[0;32mis\u001b[0m \u001b[0;32mnot\u001b[0m \u001b[0;32mNone\u001b[0m\u001b[0;34m:\u001b[0m\u001b[0;34m\u001b[0m\u001b[0;34m\u001b[0m\u001b[0m\n\u001b[0;32m--> 108\u001b[0;31m             \u001b[0mself\u001b[0m\u001b[0;34m.\u001b[0m\u001b[0m__event\u001b[0m\u001b[0;34m.\u001b[0m\u001b[0memit\u001b[0m\u001b[0;34m(\u001b[0m\u001b[0mdateTime\u001b[0m\u001b[0;34m,\u001b[0m \u001b[0mvalues\u001b[0m\u001b[0;34m)\u001b[0m\u001b[0;34m\u001b[0m\u001b[0;34m\u001b[0m\u001b[0m\n\u001b[0m\u001b[1;32m    109\u001b[0m         \u001b[0;32mreturn\u001b[0m \u001b[0mdateTime\u001b[0m \u001b[0;32mis\u001b[0m \u001b[0;32mnot\u001b[0m \u001b[0;32mNone\u001b[0m\u001b[0;34m\u001b[0m\u001b[0;34m\u001b[0m\u001b[0m\n\u001b[1;32m    110\u001b[0m \u001b[0;34m\u001b[0m\u001b[0m\n",
            "\u001b[0;32m/usr/local/lib/python3.7/dist-packages/pyalgotrade/observer.py\u001b[0m in \u001b[0;36memit\u001b[0;34m(self, *args, **kwargs)\u001b[0m\n\u001b[1;32m     63\u001b[0m             \u001b[0mself\u001b[0m\u001b[0;34m.\u001b[0m\u001b[0m__emitting\u001b[0m \u001b[0;34m+=\u001b[0m \u001b[0;36m1\u001b[0m\u001b[0;34m\u001b[0m\u001b[0;34m\u001b[0m\u001b[0m\n\u001b[1;32m     64\u001b[0m             \u001b[0;32mfor\u001b[0m \u001b[0mhandler\u001b[0m \u001b[0;32min\u001b[0m \u001b[0mself\u001b[0m\u001b[0;34m.\u001b[0m\u001b[0m__handlers\u001b[0m\u001b[0;34m:\u001b[0m\u001b[0;34m\u001b[0m\u001b[0;34m\u001b[0m\u001b[0m\n\u001b[0;32m---> 65\u001b[0;31m                 \u001b[0mhandler\u001b[0m\u001b[0;34m(\u001b[0m\u001b[0;34m*\u001b[0m\u001b[0margs\u001b[0m\u001b[0;34m,\u001b[0m \u001b[0;34m**\u001b[0m\u001b[0mkwargs\u001b[0m\u001b[0;34m)\u001b[0m\u001b[0;34m\u001b[0m\u001b[0;34m\u001b[0m\u001b[0m\n\u001b[0m\u001b[1;32m     66\u001b[0m         \u001b[0;32mfinally\u001b[0m\u001b[0;34m:\u001b[0m\u001b[0;34m\u001b[0m\u001b[0;34m\u001b[0m\u001b[0m\n\u001b[1;32m     67\u001b[0m             \u001b[0mself\u001b[0m\u001b[0;34m.\u001b[0m\u001b[0m__emitting\u001b[0m \u001b[0;34m-=\u001b[0m \u001b[0;36m1\u001b[0m\u001b[0;34m\u001b[0m\u001b[0;34m\u001b[0m\u001b[0m\n",
            "\u001b[0;32m/usr/local/lib/python3.7/dist-packages/pyalgotrade/strategy/__init__.py\u001b[0m in \u001b[0;36m__onBars\u001b[0;34m(self, dateTime, bars)\u001b[0m\n\u001b[1;32m    505\u001b[0m \u001b[0;34m\u001b[0m\u001b[0m\n\u001b[1;32m    506\u001b[0m         \u001b[0;31m# 2: Let the strategy process current bars and submit orders.\u001b[0m\u001b[0;34m\u001b[0m\u001b[0;34m\u001b[0m\u001b[0;34m\u001b[0m\u001b[0m\n\u001b[0;32m--> 507\u001b[0;31m         \u001b[0mself\u001b[0m\u001b[0;34m.\u001b[0m\u001b[0monBars\u001b[0m\u001b[0;34m(\u001b[0m\u001b[0mbars\u001b[0m\u001b[0;34m)\u001b[0m\u001b[0;34m\u001b[0m\u001b[0;34m\u001b[0m\u001b[0m\n\u001b[0m\u001b[1;32m    508\u001b[0m \u001b[0;34m\u001b[0m\u001b[0m\n\u001b[1;32m    509\u001b[0m         \u001b[0;31m# 3: Notify that the bars were processed.\u001b[0m\u001b[0;34m\u001b[0m\u001b[0;34m\u001b[0m\u001b[0;34m\u001b[0m\u001b[0m\n",
            "\u001b[0;32m/content/BackTest.py\u001b[0m in \u001b[0;36monBars\u001b[0;34m(self, bars)\u001b[0m\n\u001b[1;32m    112\u001b[0m \u001b[0;34m\u001b[0m\u001b[0m\n\u001b[1;32m    113\u001b[0m         \u001b[0;32melse\u001b[0m\u001b[0;34m:\u001b[0m\u001b[0;34m\u001b[0m\u001b[0;34m\u001b[0m\u001b[0m\n\u001b[0;32m--> 114\u001b[0;31m             \u001b[0;32mif\u001b[0m \u001b[0mself\u001b[0m\u001b[0;34m.\u001b[0m\u001b[0mstrategyClass\u001b[0m\u001b[0;34m.\u001b[0m\u001b[0menterLongSignal\u001b[0m\u001b[0;34m(\u001b[0m\u001b[0mbarDs\u001b[0m\u001b[0;34m,\u001b[0m \u001b[0mcloseDs\u001b[0m\u001b[0;34m)\u001b[0m\u001b[0;34m:\u001b[0m\u001b[0;34m\u001b[0m\u001b[0;34m\u001b[0m\u001b[0m\n\u001b[0m\u001b[1;32m    115\u001b[0m                 self.__longPos = self.enterLongStopLimit(self.__instrument,\n\u001b[1;32m    116\u001b[0m                                                          \u001b[0mbar\u001b[0m\u001b[0;34m.\u001b[0m\u001b[0mgetClose\u001b[0m\u001b[0;34m(\u001b[0m\u001b[0;34m)\u001b[0m \u001b[0;34m-\u001b[0m \u001b[0;34m(\u001b[0m\u001b[0mself\u001b[0m\u001b[0;34m.\u001b[0m\u001b[0mtickValue\u001b[0m\u001b[0;34m*\u001b[0m\u001b[0mself\u001b[0m\u001b[0;34m.\u001b[0m\u001b[0mstopLossTicks\u001b[0m\u001b[0;34m)\u001b[0m \u001b[0;34m-\u001b[0m \u001b[0;34m(\u001b[0m\u001b[0mself\u001b[0m\u001b[0;34m.\u001b[0m\u001b[0mtickValue\u001b[0m\u001b[0;34m*\u001b[0m\u001b[0mself\u001b[0m\u001b[0;34m.\u001b[0m\u001b[0mpayupTicks\u001b[0m\u001b[0;34m)\u001b[0m\u001b[0;34m,\u001b[0m\u001b[0;34m\u001b[0m\u001b[0;34m\u001b[0m\u001b[0m\n",
            "\u001b[0;32m/content/strategyClasses.py\u001b[0m in \u001b[0;36menterLongSignal\u001b[0;34m(self, extPriceBarDS, extPriceDS)\u001b[0m\n\u001b[1;32m     52\u001b[0m                                                 \u001b[0mmatype\u001b[0m \u001b[0;34m=\u001b[0m \u001b[0mMA_Type\u001b[0m\u001b[0;34m.\u001b[0m\u001b[0mSMA\u001b[0m\u001b[0;34m,\u001b[0m\u001b[0;34m\u001b[0m\u001b[0;34m\u001b[0m\u001b[0m\n\u001b[1;32m     53\u001b[0m                                                 \u001b[0mnbdevup\u001b[0m \u001b[0;34m=\u001b[0m \u001b[0mself\u001b[0m\u001b[0;34m.\u001b[0m\u001b[0mnumStdDev\u001b[0m\u001b[0;34m,\u001b[0m\u001b[0;34m\u001b[0m\u001b[0;34m\u001b[0m\u001b[0m\n\u001b[0;32m---> 54\u001b[0;31m                                                 nbdevdn = self.numStdDev)\n\u001b[0m\u001b[1;32m     55\u001b[0m         fastk, fastd = indicator.STOCHF(extPriceBarDS,\n\u001b[1;32m     56\u001b[0m                                         \u001b[0mcount\u001b[0m\u001b[0;34m=\u001b[0m\u001b[0;36m100\u001b[0m\u001b[0;34m,\u001b[0m\u001b[0;34m\u001b[0m\u001b[0;34m\u001b[0m\u001b[0m\n",
            "\u001b[0;32m/usr/local/lib/python3.7/dist-packages/pyalgotrade/talibext/indicator.py\u001b[0m in \u001b[0;36mBBANDS\u001b[0;34m(ds, count, timeperiod, nbdevup, nbdevdn, matype)\u001b[0m\n\u001b[1;32m    191\u001b[0m \u001b[0;32mdef\u001b[0m \u001b[0mBBANDS\u001b[0m\u001b[0;34m(\u001b[0m\u001b[0mds\u001b[0m\u001b[0;34m,\u001b[0m \u001b[0mcount\u001b[0m\u001b[0;34m,\u001b[0m \u001b[0mtimeperiod\u001b[0m\u001b[0;34m=\u001b[0m\u001b[0;34m-\u001b[0m\u001b[0;36m2\u001b[0m\u001b[0;34m**\u001b[0m\u001b[0;36m31\u001b[0m\u001b[0;34m,\u001b[0m \u001b[0mnbdevup\u001b[0m\u001b[0;34m=\u001b[0m\u001b[0;34m-\u001b[0m\u001b[0;36m4e37\u001b[0m\u001b[0;34m,\u001b[0m \u001b[0mnbdevdn\u001b[0m\u001b[0;34m=\u001b[0m\u001b[0;34m-\u001b[0m\u001b[0;36m4e37\u001b[0m\u001b[0;34m,\u001b[0m \u001b[0mmatype\u001b[0m\u001b[0;34m=\u001b[0m\u001b[0;36m0\u001b[0m\u001b[0;34m)\u001b[0m\u001b[0;34m:\u001b[0m\u001b[0;34m\u001b[0m\u001b[0;34m\u001b[0m\u001b[0m\n\u001b[1;32m    192\u001b[0m     \u001b[0;34m\"\"\"Bollinger Bands\"\"\"\u001b[0m\u001b[0;34m\u001b[0m\u001b[0;34m\u001b[0m\u001b[0m\n\u001b[0;32m--> 193\u001b[0;31m     \u001b[0mret\u001b[0m \u001b[0;34m=\u001b[0m \u001b[0mcall_talib_with_ds\u001b[0m\u001b[0;34m(\u001b[0m\u001b[0mds\u001b[0m\u001b[0;34m,\u001b[0m \u001b[0mcount\u001b[0m\u001b[0;34m,\u001b[0m \u001b[0mtalib\u001b[0m\u001b[0;34m.\u001b[0m\u001b[0mBBANDS\u001b[0m\u001b[0;34m,\u001b[0m \u001b[0mtimeperiod\u001b[0m\u001b[0;34m,\u001b[0m \u001b[0mnbdevup\u001b[0m\u001b[0;34m,\u001b[0m \u001b[0mnbdevdn\u001b[0m\u001b[0;34m,\u001b[0m \u001b[0mmatype\u001b[0m\u001b[0;34m)\u001b[0m\u001b[0;34m\u001b[0m\u001b[0;34m\u001b[0m\u001b[0m\n\u001b[0m\u001b[1;32m    194\u001b[0m     \u001b[0;32mif\u001b[0m \u001b[0mret\u001b[0m \u001b[0;32mis\u001b[0m \u001b[0;32mNone\u001b[0m\u001b[0;34m:\u001b[0m\u001b[0;34m\u001b[0m\u001b[0;34m\u001b[0m\u001b[0m\n\u001b[1;32m    195\u001b[0m         \u001b[0mret\u001b[0m \u001b[0;34m=\u001b[0m \u001b[0;34m(\u001b[0m\u001b[0;32mNone\u001b[0m\u001b[0;34m,\u001b[0m \u001b[0;32mNone\u001b[0m\u001b[0;34m,\u001b[0m \u001b[0;32mNone\u001b[0m\u001b[0;34m)\u001b[0m\u001b[0;34m\u001b[0m\u001b[0;34m\u001b[0m\u001b[0m\n",
            "\u001b[0;32m/usr/local/lib/python3.7/dist-packages/pyalgotrade/talibext/indicator.py\u001b[0m in \u001b[0;36mcall_talib_with_ds\u001b[0;34m(ds, count, talibFunc, *args, **kwargs)\u001b[0m\n\u001b[1;32m     63\u001b[0m \u001b[0;31m# Calls a talib function with the last values of a dataseries.\u001b[0m\u001b[0;34m\u001b[0m\u001b[0;34m\u001b[0m\u001b[0;34m\u001b[0m\u001b[0m\n\u001b[1;32m     64\u001b[0m \u001b[0;32mdef\u001b[0m \u001b[0mcall_talib_with_ds\u001b[0m\u001b[0;34m(\u001b[0m\u001b[0mds\u001b[0m\u001b[0;34m,\u001b[0m \u001b[0mcount\u001b[0m\u001b[0;34m,\u001b[0m \u001b[0mtalibFunc\u001b[0m\u001b[0;34m,\u001b[0m \u001b[0;34m*\u001b[0m\u001b[0margs\u001b[0m\u001b[0;34m,\u001b[0m \u001b[0;34m**\u001b[0m\u001b[0mkwargs\u001b[0m\u001b[0;34m)\u001b[0m\u001b[0;34m:\u001b[0m\u001b[0;34m\u001b[0m\u001b[0;34m\u001b[0m\u001b[0m\n\u001b[0;32m---> 65\u001b[0;31m     \u001b[0mdata\u001b[0m \u001b[0;34m=\u001b[0m \u001b[0mvalue_ds_to_numpy\u001b[0m\u001b[0;34m(\u001b[0m\u001b[0mds\u001b[0m\u001b[0;34m,\u001b[0m \u001b[0mcount\u001b[0m\u001b[0;34m)\u001b[0m\u001b[0;34m\u001b[0m\u001b[0;34m\u001b[0m\u001b[0m\n\u001b[0m\u001b[1;32m     66\u001b[0m     \u001b[0;32mif\u001b[0m \u001b[0mdata\u001b[0m \u001b[0;32mis\u001b[0m \u001b[0;32mNone\u001b[0m\u001b[0;34m:\u001b[0m\u001b[0;34m\u001b[0m\u001b[0;34m\u001b[0m\u001b[0m\n\u001b[1;32m     67\u001b[0m         \u001b[0;32mreturn\u001b[0m \u001b[0;32mNone\u001b[0m\u001b[0;34m\u001b[0m\u001b[0;34m\u001b[0m\u001b[0m\n",
            "\u001b[0;32m/usr/local/lib/python3.7/dist-packages/pyalgotrade/talibext/indicator.py\u001b[0m in \u001b[0;36mvalue_ds_to_numpy\u001b[0;34m(ds, count)\u001b[0m\n\u001b[1;32m     28\u001b[0m     \u001b[0;32mtry\u001b[0m\u001b[0;34m:\u001b[0m\u001b[0;34m\u001b[0m\u001b[0;34m\u001b[0m\u001b[0m\n\u001b[1;32m     29\u001b[0m         \u001b[0mvalues\u001b[0m \u001b[0;34m=\u001b[0m \u001b[0mds\u001b[0m\u001b[0;34m[\u001b[0m\u001b[0mcount\u001b[0m\u001b[0;34m*\u001b[0m\u001b[0;34m-\u001b[0m\u001b[0;36m1\u001b[0m\u001b[0;34m:\u001b[0m\u001b[0;34m]\u001b[0m\u001b[0;34m\u001b[0m\u001b[0;34m\u001b[0m\u001b[0m\n\u001b[0;32m---> 30\u001b[0;31m         \u001b[0mret\u001b[0m \u001b[0;34m=\u001b[0m \u001b[0mnumpy\u001b[0m\u001b[0;34m.\u001b[0m\u001b[0marray\u001b[0m\u001b[0;34m(\u001b[0m\u001b[0;34m[\u001b[0m\u001b[0mfloat\u001b[0m\u001b[0;34m(\u001b[0m\u001b[0mvalue\u001b[0m\u001b[0;34m)\u001b[0m \u001b[0;32mfor\u001b[0m \u001b[0mvalue\u001b[0m \u001b[0;32min\u001b[0m \u001b[0mvalues\u001b[0m\u001b[0;34m]\u001b[0m\u001b[0;34m)\u001b[0m\u001b[0;34m\u001b[0m\u001b[0;34m\u001b[0m\u001b[0m\n\u001b[0m\u001b[1;32m     31\u001b[0m     \u001b[0;32mexcept\u001b[0m \u001b[0mIndexError\u001b[0m\u001b[0;34m:\u001b[0m\u001b[0;34m\u001b[0m\u001b[0;34m\u001b[0m\u001b[0m\n\u001b[1;32m     32\u001b[0m         \u001b[0;32mpass\u001b[0m\u001b[0;34m\u001b[0m\u001b[0;34m\u001b[0m\u001b[0m\n",
            "\u001b[0;32m/usr/local/lib/python3.7/dist-packages/pyalgotrade/talibext/indicator.py\u001b[0m in \u001b[0;36m<listcomp>\u001b[0;34m(.0)\u001b[0m\n\u001b[1;32m     28\u001b[0m     \u001b[0;32mtry\u001b[0m\u001b[0;34m:\u001b[0m\u001b[0;34m\u001b[0m\u001b[0;34m\u001b[0m\u001b[0m\n\u001b[1;32m     29\u001b[0m         \u001b[0mvalues\u001b[0m \u001b[0;34m=\u001b[0m \u001b[0mds\u001b[0m\u001b[0;34m[\u001b[0m\u001b[0mcount\u001b[0m\u001b[0;34m*\u001b[0m\u001b[0;34m-\u001b[0m\u001b[0;36m1\u001b[0m\u001b[0;34m:\u001b[0m\u001b[0;34m]\u001b[0m\u001b[0;34m\u001b[0m\u001b[0;34m\u001b[0m\u001b[0m\n\u001b[0;32m---> 30\u001b[0;31m         \u001b[0mret\u001b[0m \u001b[0;34m=\u001b[0m \u001b[0mnumpy\u001b[0m\u001b[0;34m.\u001b[0m\u001b[0marray\u001b[0m\u001b[0;34m(\u001b[0m\u001b[0;34m[\u001b[0m\u001b[0mfloat\u001b[0m\u001b[0;34m(\u001b[0m\u001b[0mvalue\u001b[0m\u001b[0;34m)\u001b[0m \u001b[0;32mfor\u001b[0m \u001b[0mvalue\u001b[0m \u001b[0;32min\u001b[0m \u001b[0mvalues\u001b[0m\u001b[0;34m]\u001b[0m\u001b[0;34m)\u001b[0m\u001b[0;34m\u001b[0m\u001b[0;34m\u001b[0m\u001b[0m\n\u001b[0m\u001b[1;32m     31\u001b[0m     \u001b[0;32mexcept\u001b[0m \u001b[0mIndexError\u001b[0m\u001b[0;34m:\u001b[0m\u001b[0;34m\u001b[0m\u001b[0;34m\u001b[0m\u001b[0m\n\u001b[1;32m     32\u001b[0m         \u001b[0;32mpass\u001b[0m\u001b[0;34m\u001b[0m\u001b[0;34m\u001b[0m\u001b[0m\n",
            "\u001b[0;31mKeyboardInterrupt\u001b[0m: "
          ]
        }
      ]
    },
    {
      "cell_type": "code",
      "metadata": {
        "id": "2TaH0t9Jj5gG"
      },
      "source": [
        "import numpy as np\r\n",
        "\r\n",
        "vals = np.unique(pnl,return_counts=True)\r\n",
        "\r\n",
        "plt.bar(vals[0],vals[1], width=0.5)"
      ],
      "execution_count": null,
      "outputs": []
    },
    {
      "cell_type": "code",
      "metadata": {
        "id": "R4rKQW9eiEqJ"
      },
      "source": [
        "for i in range(0,len(pnl)):\r\n",
        "  if pnl[i]>0:\r\n",
        "    plt.bar(i,pnl[i], color='green')\r\n",
        "\r\n",
        "  if pnl[i]<0:\r\n",
        "    plt.bar(i,pnl[i], color='red')\r\n",
        "\r\n",
        "  if pnl[i]==0:\r\n",
        "    plt.bar(i,pnl[i], color='black')\r\n",
        "\r\n",
        "plt.show()"
      ],
      "execution_count": null,
      "outputs": []
    },
    {
      "cell_type": "code",
      "metadata": {
        "id": "MqG9uQzNCWYN"
      },
      "source": [
        "res = pd.read_csv('/gdrive/My Drive/Data/BORSISO/backtest_result_30mins.csv').drop('Unnamed: 0', axis=1).transpose()\r\n",
        "\r\n",
        "colname =['Total Trades','Win Trades','Loss Trades','P/L Ticks','Sharpe Ratio',\r\n",
        "          'Max Drawdown%','Win%','Loss%','Average Total P/L','Average Win P/L',\r\n",
        "          'Average Loss P/L','Total P/L Std Deviation','Win P/L Std Deviation',\r\n",
        "          'Loss P/L Std Deviation','Max Total P/L','Max Win P/L','Max Loss P/L',\r\n",
        "          'Min Total P/L','Min Win P/L','Min Loss P/L']\r\n",
        "\r\n",
        "res.columns = colname\r\n",
        "\r\n",
        "index_vals = res.index.values\r\n",
        "new_index=[]\r\n",
        "for i in range(0, len(index_vals)):\r\n",
        "  day_val = '01'\r\n",
        "\r\n",
        "  if index_vals[i][:3] =='Jan':\r\n",
        "    month_val = '01'\r\n",
        "\r\n",
        "  elif index_vals[i][:3] =='Mar':\r\n",
        "    month_val = '03'\r\n",
        "  \r\n",
        "  elif index_vals[i][:3] =='May':\r\n",
        "    month_val = '05'\r\n",
        "\r\n",
        "  elif index_vals[i][:3] =='Jul':\r\n",
        "    month_val = '07'\r\n",
        "\r\n",
        "  elif index_vals[i][:3] =='Aug':\r\n",
        "    month_val = '08'\r\n",
        "\r\n",
        "  elif index_vals[i][:3] =='Sep':\r\n",
        "    month_val = '09'\r\n",
        "\r\n",
        "  elif index_vals[i][:3] =='Nov':\r\n",
        "    month_val = '11'\r\n",
        "\r\n",
        "  year_val =  '20' + index_vals[i][3:]\r\n",
        "\r\n",
        "  date_val = day_val + '-' + month_val + '-' + year_val\r\n",
        "\r\n",
        "  date_val = datetime.strptime(date_val, '%d-%m-%Y')\r\n",
        "\r\n",
        "  new_index.append(date_val)\r\n",
        "res.index = new_index"
      ],
      "execution_count": 57,
      "outputs": []
    },
    {
      "cell_type": "code",
      "metadata": {
        "id": "b_wmOCHjntSH"
      },
      "source": [
        "though i can use a volume-share slippage model with a price impact constant multiplied by the square of the ratio of the order to the total volume."
      ],
      "execution_count": null,
      "outputs": []
    },
    {
      "cell_type": "code",
      "metadata": {
        "colab": {
          "base_uri": "https://localhost:8080/",
          "height": 376
        },
        "id": "SJ9tbE3GHFza",
        "outputId": "6480e901-d2c7-4638-bd4c-24b6b2e2909d"
      },
      "source": [
        "fig = plt.figure(figsize=[10,4])\r\n",
        "ax = fig.add_axes([0,0,1,1])\r\n",
        "res['P/L Ticks'].groupby(res.index.year).mean().plot(kind='bar')"
      ],
      "execution_count": 61,
      "outputs": [
        {
          "output_type": "execute_result",
          "data": {
            "text/plain": [
              "<matplotlib.axes._axes.Axes at 0x7f608c5e31d0>"
            ]
          },
          "metadata": {
            "tags": []
          },
          "execution_count": 61
        },
        {
          "output_type": "display_data",
          "data": {
            "image/png": "[encoded data removed]",
            "text/plain": [
              "<Figure size 720x288 with 1 Axes>"
            ]
          },
          "metadata": {
            "tags": []
          }
        }
      ]
    },
    {
      "cell_type": "code",
      "metadata": {
        "colab": {
          "base_uri": "https://localhost:8080/",
          "height": 463
        },
        "id": "iouvEf0wxt74",
        "outputId": "6053e679-f106-4e0e-bb63-11f511541a38"
      },
      "source": [
        "fig = plt.figure(figsize=[10,4])\r\n",
        "ax = fig.add_axes([0,0,1,1])\r\n",
        "res['P/L Ticks'].plot(kind='bar')"
      ],
      "execution_count": 58,
      "outputs": [
        {
          "output_type": "execute_result",
          "data": {
            "text/plain": [
              "<matplotlib.axes._axes.Axes at 0x7f60898296d0>"
            ]
          },
          "metadata": {
            "tags": []
          },
          "execution_count": 58
        },
        {
          "output_type": "display_data",
          "data": {
            "image/png": "[encoded data removed]",
            "text/plain": [
              "<Figure size 720x288 with 1 Axes>"
            ]
          },
          "metadata": {
            "tags": []
          }
        }
      ]
    },
    {
      "cell_type": "code",
      "metadata": {
        "colab": {
          "base_uri": "https://localhost:8080/",
          "height": 360
        },
        "id": "vWuWVqPkLR53",
        "outputId": "07b5b862-6b25-4bc2-bbc6-e2aab8027c3d"
      },
      "source": [
        "fig = plt.figure(figsize=[10,4])\r\n",
        "ax = fig.add_axes([0,0,1,1])\r\n",
        "res['P/L Ticks'].groupby(res.index.month).mean().plot(kind='bar')"
      ],
      "execution_count": 60,
      "outputs": [
        {
          "output_type": "execute_result",
          "data": {
            "text/plain": [
              "<matplotlib.axes._axes.Axes at 0x7f6091101810>"
            ]
          },
          "metadata": {
            "tags": []
          },
          "execution_count": 60
        },
        {
          "output_type": "display_data",
          "data": {
            "image/png": "[encoded data removed]",
            "text/plain": [
              "<Figure size 720x288 with 1 Axes>"
            ]
          },
          "metadata": {
            "tags": []
          }
        }
      ]
    }
  ]
}