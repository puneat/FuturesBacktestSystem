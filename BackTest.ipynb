{
  "nbformat": 4,
  "nbformat_minor": 0,
  "metadata": {
    "colab": {
      "name": "BackTest.ipynb",
      "provenance": [],
      "collapsed_sections": [],
      "authorship_tag": "ABX9TyPpamI8QtcPYcTIOF/4hQC8",
      "include_colab_link": true
    },
    "kernelspec": {
      "name": "python3",
      "display_name": "Python 3"
    }
  },
  "cells": [
    {
      "cell_type": "markdown",
      "metadata": {
        "id": "view-in-github",
        "colab_type": "text"
      },
      "source": [
        "<a href=\"https://colab.research.google.com/github/puneat/FuturesBacktestSystem/blob/main/BackTest.ipynb\" target=\"_parent\"><img src=\"https://colab.research.google.com/assets/colab-badge.svg\" alt=\"Open In Colab\"/></a>"
      ]
    },
    {
      "cell_type": "code",
      "metadata": {
        "id": "auBY4oMTRPXZ",
        "colab": {
          "base_uri": "https://localhost:8080/"
        },
        "outputId": "20ac9e1d-4e5b-40ed-ac68-32960f80dac2"
      },
      "source": [
        "!git clone https://github.com/puneat/FuturesBacktestSystem.git\r\n",
        "\r\n",
        "!cp /content/FuturesBacktestSystem/strategyClasses.py .\r\n",
        "!cp /content/FuturesBacktestSystem/BackTest.py .\r\n",
        "!cp /content/FuturesBacktestSystem/DataProcessing.py .\r\n",
        "\r\n",
        "url = 'https://launchpad.net/~mario-mariomedina/+archive/ubuntu/talib/+files'\r\n",
        "!wget $url/libta-lib0_0.4.0-oneiric1_amd64.deb -qO libta.deb\r\n",
        "!wget $url/ta-lib0-dev_0.4.0-oneiric1_amd64.deb -qO ta.deb\r\n",
        "!dpkg -i libta.deb ta.deb\r\n",
        "!pip install ta-lib\r\n",
        "!pip3 install pyalgotrade"
      ],
      "execution_count": 1,
      "outputs": [
        {
          "output_type": "stream",
          "text": [
            "Cloning into 'FuturesBacktestSystem'...\n",
            "remote: Enumerating objects: 119, done.\u001b[K\n",
            "remote: Counting objects: 100% (119/119), done.\u001b[K\n",
            "remote: Compressing objects: 100% (116/116), done.\u001b[K\n",
            "remote: Total 119 (delta 59), reused 0 (delta 0), pack-reused 0\u001b[K\n",
            "Receiving objects: 100% (119/119), 1.28 MiB | 3.25 MiB/s, done.\n",
            "Resolving deltas: 100% (59/59), done.\n",
            "Selecting previously unselected package libta-lib0.\n",
            "(Reading database ... 160975 files and directories currently installed.)\n",
            "Preparing to unpack libta.deb ...\n",
            "Unpacking libta-lib0 (0.4.0-oneiric1) ...\n",
            "Selecting previously unselected package ta-lib0-dev.\n",
            "Preparing to unpack ta.deb ...\n",
            "Unpacking ta-lib0-dev (0.4.0-oneiric1) ...\n",
            "Setting up libta-lib0 (0.4.0-oneiric1) ...\n",
            "Setting up ta-lib0-dev (0.4.0-oneiric1) ...\n",
            "Processing triggers for man-db (2.8.3-2ubuntu0.1) ...\n",
            "Processing triggers for libc-bin (2.27-3ubuntu1.2) ...\n",
            "/sbin/ldconfig.real: /usr/local/lib/python3.7/dist-packages/ideep4py/lib/libmkldnn.so.0 is not a symbolic link\n",
            "\n",
            "Collecting ta-lib\n",
            "\u001b[?25l  Downloading https://files.pythonhosted.org/packages/ac/cf/681911aa31e04ba171ab4d523a412f4a746e30d3eacb1738799d181e028b/TA-Lib-0.4.19.tar.gz (267kB)\n",
            "\u001b[K     |████████████████████████████████| 276kB 8.0MB/s \n",
            "\u001b[?25hRequirement already satisfied: numpy in /usr/local/lib/python3.7/dist-packages (from ta-lib) (1.19.5)\n",
            "Building wheels for collected packages: ta-lib\n",
            "  Building wheel for ta-lib (setup.py) ... \u001b[?25l\u001b[?25hdone\n",
            "  Created wheel for ta-lib: filename=TA_Lib-0.4.19-cp37-cp37m-linux_x86_64.whl size=1437978 sha256=8f6c99b2c494965ca332ced78822a0ab661045f5b34b95830345857cf66200bb\n",
            "  Stored in directory: /root/.cache/pip/wheels/a3/f6/12/3d1ccd06caadd8fa47e016991dd0d27f1163bb260f1854e2ff\n",
            "Successfully built ta-lib\n",
            "Installing collected packages: ta-lib\n",
            "Successfully installed ta-lib-0.4.19\n",
            "Collecting pyalgotrade\n",
            "\u001b[?25l  Downloading https://files.pythonhosted.org/packages/e1/57/4416e9143ac48ba935f858abd096ec336c15786662e640b16c7854b10480/PyAlgoTrade-0.20.tar.gz (84kB)\n",
            "\u001b[K     |████████████████████████████████| 92kB 4.8MB/s \n",
            "\u001b[?25hRequirement already satisfied: matplotlib in /usr/local/lib/python3.7/dist-packages (from pyalgotrade) (3.2.2)\n",
            "Requirement already satisfied: numpy in /usr/local/lib/python3.7/dist-packages (from pyalgotrade) (1.19.5)\n",
            "Requirement already satisfied: python-dateutil in /usr/local/lib/python3.7/dist-packages (from pyalgotrade) (2.8.1)\n",
            "Requirement already satisfied: pytz in /usr/local/lib/python3.7/dist-packages (from pyalgotrade) (2018.9)\n",
            "Requirement already satisfied: requests in /usr/local/lib/python3.7/dist-packages (from pyalgotrade) (2.23.0)\n",
            "Requirement already satisfied: retrying in /usr/local/lib/python3.7/dist-packages (from pyalgotrade) (1.3.3)\n",
            "Requirement already satisfied: scipy in /usr/local/lib/python3.7/dist-packages (from pyalgotrade) (1.4.1)\n",
            "Requirement already satisfied: six in /usr/local/lib/python3.7/dist-packages (from pyalgotrade) (1.15.0)\n",
            "Requirement already satisfied: tornado in /usr/local/lib/python3.7/dist-packages (from pyalgotrade) (5.1.1)\n",
            "Requirement already satisfied: tweepy in /usr/local/lib/python3.7/dist-packages (from pyalgotrade) (3.10.0)\n",
            "Collecting ws4py>=0.3.4\n",
            "\u001b[?25l  Downloading https://files.pythonhosted.org/packages/53/20/4019a739b2eefe9282d3822ef6a225250af964b117356971bd55e274193c/ws4py-0.5.1.tar.gz (51kB)\n",
            "\u001b[K     |████████████████████████████████| 61kB 3.7MB/s \n",
            "\u001b[?25hRequirement already satisfied: pyparsing!=2.0.4,!=2.1.2,!=2.1.6,>=2.0.1 in /usr/local/lib/python3.7/dist-packages (from matplotlib->pyalgotrade) (2.4.7)\n",
            "Requirement already satisfied: kiwisolver>=1.0.1 in /usr/local/lib/python3.7/dist-packages (from matplotlib->pyalgotrade) (1.3.1)\n",
            "Requirement already satisfied: cycler>=0.10 in /usr/local/lib/python3.7/dist-packages (from matplotlib->pyalgotrade) (0.10.0)\n",
            "Requirement already satisfied: idna<3,>=2.5 in /usr/local/lib/python3.7/dist-packages (from requests->pyalgotrade) (2.10)\n",
            "Requirement already satisfied: chardet<4,>=3.0.2 in /usr/local/lib/python3.7/dist-packages (from requests->pyalgotrade) (3.0.4)\n",
            "Requirement already satisfied: urllib3!=1.25.0,!=1.25.1,<1.26,>=1.21.1 in /usr/local/lib/python3.7/dist-packages (from requests->pyalgotrade) (1.24.3)\n",
            "Requirement already satisfied: certifi>=2017.4.17 in /usr/local/lib/python3.7/dist-packages (from requests->pyalgotrade) (2020.12.5)\n",
            "Requirement already satisfied: requests-oauthlib>=0.7.0 in /usr/local/lib/python3.7/dist-packages (from tweepy->pyalgotrade) (1.3.0)\n",
            "Requirement already satisfied: oauthlib>=3.0.0 in /usr/local/lib/python3.7/dist-packages (from requests-oauthlib>=0.7.0->tweepy->pyalgotrade) (3.1.0)\n",
            "Building wheels for collected packages: pyalgotrade, ws4py\n",
            "  Building wheel for pyalgotrade (setup.py) ... \u001b[?25l\u001b[?25hdone\n",
            "  Created wheel for pyalgotrade: filename=PyAlgoTrade-0.20-cp37-none-any.whl size=159543 sha256=1629eb0fea61792b1456106e516846d1a5ad6205d83b1093fd5f32ad079ef6c2\n",
            "  Stored in directory: /root/.cache/pip/wheels/12/b8/69/31e68bb2e66b8003d95ca66578721957a5f6c647363ee16cf2\n",
            "  Building wheel for ws4py (setup.py) ... \u001b[?25l\u001b[?25hdone\n",
            "  Created wheel for ws4py: filename=ws4py-0.5.1-cp37-none-any.whl size=45216 sha256=e6c5d01fd6fb01ec587e5e82d6230436225b7c7f85a6f62cd04ed10ebacfd540\n",
            "  Stored in directory: /root/.cache/pip/wheels/a2/6e/4e/8b0ae12fb9b8a05715256952cf7609a8ab86285fab99b88c68\n",
            "Successfully built pyalgotrade ws4py\n",
            "Installing collected packages: ws4py, pyalgotrade\n",
            "Successfully installed pyalgotrade-0.20 ws4py-0.5.1\n"
          ],
          "name": "stdout"
        }
      ]
    },
    {
      "cell_type": "code",
      "metadata": {
        "colab": {
          "base_uri": "https://localhost:8080/"
        },
        "id": "sZD-XcSbRgkE",
        "outputId": "f140f719-7cd5-44d5-fd1f-881bb96d8fc9"
      },
      "source": [
        "from google.colab import drive\r\n",
        "drive.mount('/gdrive')"
      ],
      "execution_count": 2,
      "outputs": [
        {
          "output_type": "stream",
          "text": [
            "Mounted at /gdrive\n"
          ],
          "name": "stdout"
        }
      ]
    },
    {
      "cell_type": "code",
      "metadata": {
        "id": "iqOYZULMRm2b",
        "colab": {
          "base_uri": "https://localhost:8080/"
        },
        "outputId": "2b4bf5ab-9207-4fac-d4fc-9e41ba42bad8"
      },
      "source": [
        "from __future__ import print_function\r\n",
        "from pyalgotrade import plotter\r\n",
        "from pyalgotrade.stratanalyzer import returns\r\n",
        "from pyalgotrade.talibext import indicator\r\n",
        "import matplotlib.pyplot as plt\r\n",
        "from datetime import datetime\r\n",
        "from pyalgotrade.barfeed.csvfeed import GenericBarFeed\r\n",
        "from pyalgotrade.bar import Frequency\r\n",
        "import pandas as pd\r\n",
        "import strategyClasses\r\n",
        "import BackTest\r\n",
        "from DataProcessing import process_data, metrics, cumulativeReturnsPlot, savePlots, saveLogs, readBacktestResults\r\n",
        "import talib\r\n",
        "from talib import MA_Type\r\n",
        "import numpy as np\r\n",
        "from pyalgotrade import plotter\r\n",
        "from pyalgotrade.stratanalyzer import trades\r\n",
        "from pyalgotrade.stratanalyzer import returns\r\n",
        "from pyalgotrade.stratanalyzer import sharpe\r\n",
        "from pyalgotrade.stratanalyzer import drawdown\r\n",
        "from pyalgotrade import broker as basebroker\r\n",
        "from tqdm import tqdm\r\n",
        "import seaborn as sns; sns.set_theme()\r\n",
        "from os import listdir\r\n",
        "from os.path import isfile, join\r\n",
        "\r\n",
        "# import talib\r\n",
        "plt.rcParams['figure.figsize'] = (30.0, 15.0)"
      ],
      "execution_count": 3,
      "outputs": [
        {
          "output_type": "stream",
          "text": [
            "/content/DataProcessing.py:3: FutureWarning: The pandas.datetime class is deprecated and will be removed from pandas in a future version. Import from datetime module instead.\n",
            "  from pandas import datetime\n"
          ],
          "name": "stderr"
        }
      ]
    },
    {
      "cell_type": "code",
      "metadata": {
        "id": "pOVKye_5QLpU"
      },
      "source": [
        "from pyalgotrade.barfeed.csvfeed import GenericBarFeed\r\n",
        "from pyalgotrade.bar import Frequency\r\n",
        "from pyalgotrade import strategy\r\n",
        "from pyalgotrade.technical import ma\r\n",
        "from pyalgotrade.technical import rsi\r\n",
        "from pyalgotrade.technical import cross\r\n",
        "from pyalgotrade.technical.bollinger import BollingerBands\r\n",
        "from pyalgotrade.technical.macd import MACD\r\n",
        "from pyalgotrade.technical.stoch import StochasticOscillator\r\n",
        "from pyalgotrade.broker.backtesting import Broker\r\n",
        "from pyalgotrade.technical.vwap import VWAP\r\n",
        "from pyalgotrade import plotter\r\n",
        "from pyalgotrade.stratanalyzer import trades\r\n",
        "from pyalgotrade.stratanalyzer import returns\r\n",
        "from pyalgotrade.stratanalyzer import sharpe\r\n",
        "from pyalgotrade.stratanalyzer import drawdown\r\n",
        "from pyalgotrade import broker as basebroker\r\n",
        "\r\n",
        "class ATR_talib():\r\n",
        "    def __init__(self, #fixed\r\n",
        "               priceDS, #fixed\r\n",
        "               priceBarDS,  #fixed\r\n",
        "               trixFarPeriod = 14,\r\n",
        "               trixNearPeriod = 7): #custom\r\n",
        "    # prices\r\n",
        "        self.priceDS = priceDS\r\n",
        "        self.priceBarDS = priceBarDS\r\n",
        "        self.trixNearPeriod = trixNearPeriod\r\n",
        "        self.trixFarPeriod = trixFarPeriod\r\n",
        "        self.atr_ts_low = -10000\r\n",
        "        self.atr_ts_high = 10000\r\n",
        "\r\n",
        "\r\n",
        "\r\n",
        "    def enterLongSignal(self, extPriceBarDS, extPriceDS):\r\n",
        "        atr = indicator.ATR( extPriceBarDS,\r\n",
        "                            count=100,\r\n",
        "                            timeperiod=7)\r\n",
        "        \r\n",
        "        atr_ts = atr[-1]*2\r\n",
        "        if self.atr_ts_low == -10000 and self.atr_ts_high == 10000:\r\n",
        "          self.atr_ts_low =  extPriceDS.__getitem__(0) - atr_ts\r\n",
        "          self.atr_ts_high = extPriceDS.__getitem__(0)  + atr_ts\r\n",
        "          longEntryFilter_1 = False\r\n",
        "\r\n",
        "        else:\r\n",
        "          longEntryFilter_1 = extPriceDS.__getitem__(0) > self.atr_ts_high\r\n",
        "          self.atr_ts_low =  extPriceDS.__getitem__(0) - atr_ts\r\n",
        "          self.atr_ts_high = extPriceDS.__getitem__(0)  + atr_ts\r\n",
        "\r\n",
        "        return longEntryFilter_1\r\n",
        "\r\n",
        "    def exitLongSignal(self, longPos, extPriceBarDS, extPriceDS):\r\n",
        "        longExitFilter_1 = extPriceDS.__getitem__(0) < (self.atr_ts_high)\r\n",
        "\r\n",
        "        longExitFilter_2 = longPos.exitActive()\r\n",
        "\r\n",
        "        return longExitFilter_1 and not longExitFilter_2\r\n",
        "\r\n",
        "    def enterShortSignal(self,extPriceBarDS, extPriceDS):\r\n",
        "        atr = indicator.ATR( extPriceBarDS,\r\n",
        "                            count=100,\r\n",
        "                            timeperiod=7)\r\n",
        "        \r\n",
        "        atr_ts = atr[-1]*2\r\n",
        "        if self.atr_ts_low == -10000 and self.atr_ts_high == 10000:\r\n",
        "          self.atr_ts_low =  extPriceDS.__getitem__(0) - atr_ts\r\n",
        "          self.atr_ts_high = extPriceDS.__getitem__(0)  + atr_ts\r\n",
        "          shortEntryFilter_1 = False\r\n",
        "\r\n",
        "        else:\r\n",
        "          shortEntryFilter_1 = extPriceDS.__getitem__(0) < self.atr_ts_low\r\n",
        "          self.atr_ts_low =  extPriceDS.__getitem__(0) - atr_ts\r\n",
        "          self.atr_ts_high = extPriceDS.__getitem__(0)  + atr_ts\r\n",
        "\r\n",
        "        return shortEntryFilter_1\r\n",
        "\r\n",
        "    def exitShortSignal(self, shortPos, extPriceBarDS, extPriceDS):\r\n",
        "\r\n",
        "        shortExitFilter_1 = extPriceDS.__getitem__(0) > (self.atr_ts_low)\r\n",
        "        shortExitFilter_2 = shortPos.exitActive()\r\n",
        "\r\n",
        "\r\n",
        "        return shortExitFilter_1 and not shortExitFilter_2"
      ],
      "execution_count": null,
      "outputs": []
    },
    {
      "cell_type": "code",
      "metadata": {
        "id": "WBxnsAwHgvE5"
      },
      "source": [
        "def testStrategy(plot, path):\r\n",
        "    instrument = 'ZS'\r\n",
        "    # Load the bars.\r\n",
        "    feed = GenericBarFeed(Frequency.TRADE, timezone=None, maxLen=1300000)\r\n",
        "    feed.setDateTimeFormat(\"%Y-%m-%d %H:%M:%S\")\r\n",
        "    #feed.addBarsFromCSV(instrument,'/content/FuturesBacktestSystem/data/ZS_C1_15m.csv')\r\n",
        "    feed.addBarsFromCSV(instrument, path,)\r\n",
        "    #feed.addBarsFromCSV(instrument,'/content/ZS_C1C2_15m_shifted')\r\n",
        "    priceDS = feed[instrument].getPriceDataSeries()\r\n",
        "    priceBarDS = feed.getDataSeries(instrument)\r\n",
        "\r\n",
        "    #create desired strategy class object\r\n",
        "    strat = strategyClasses.BO_RSI_SO_talib(priceDS,\r\n",
        "                           priceBarDS,\r\n",
        "                           bBandsPeriod = 14,\r\n",
        "                           rsiPeriod = 7,\r\n",
        "                           soPeriod = 7,\r\n",
        "                           soDPeriod=3,\r\n",
        "                           overBoughtThreshold = 70,\r\n",
        "                           overSoldThreshold = 30,\r\n",
        "                           numStdDev = 2)\r\n",
        "    \r\n",
        "    # strat = ATR_talib(priceDS,\r\n",
        "    #                    priceBarDS,\r\n",
        "    #                    trixFarPeriod = 14,\r\n",
        "    #                    trixNearPeriod = 7)\r\n",
        "\r\n",
        "    # pass strategy to backtest system\r\n",
        "    back = BackTest.BacktestSystem(feed,\r\n",
        "                          instrument = instrument,\r\n",
        "                          strategyClass = strat,\r\n",
        "                          payupTicks = 0,\r\n",
        "                          stopLossTicks = 4,\r\n",
        "                          tickValue = 0.25,\r\n",
        "                          startingMoney = 100000, # in cents\r\n",
        "                          GTC = False,\r\n",
        "                          AON = False,\r\n",
        "                          lotSize = 1,\r\n",
        "                          printOrders = False,\r\n",
        "                          saveTradeLog = True)\r\n",
        "    \r\n",
        "    # attach return analyzer\r\n",
        "    retAnalyzer = returns.Returns(maxLen=13000000)\r\n",
        "    back.attachAnalyzer(retAnalyzer)\r\n",
        "\r\n",
        "    tradeAnalyzer = trades.Trades()\r\n",
        "    back.attachAnalyzer(tradeAnalyzer)\r\n",
        "\r\n",
        "    sharpeAnalyzer = sharpe.SharpeRatio()\r\n",
        "    back.attachAnalyzer(sharpeAnalyzer)\r\n",
        "\r\n",
        "    drawdownAnalyzer = drawdown.DrawDown()\r\n",
        "    back.attachAnalyzer(drawdownAnalyzer )\r\n",
        "\r\n",
        "    if plot:\r\n",
        "        plt = plotter.StrategyPlotter(back, True, True, False)\r\n",
        "        # plt.getInstrumentSubplot(instrument).addDataSeries(\"upper\", strat.bbands.getUpperBand())\r\n",
        "        # plt.getInstrumentSubplot(instrument).addDataSeries(\"middle\", strat.bbands.getMiddleBand())\r\n",
        "        # plt.getInstrumentSubplot(instrument).addDataSeries(\"lower\", strat.bbands.getLowerBand())\r\n",
        "\r\n",
        "    cumRet = retAnalyzer.getCumulativeReturns()\r\n",
        "\r\n",
        "    back.run()\r\n",
        "    # back.info(\"Final portfolio value: $%.2f\" % back.getResult())\r\n",
        "\r\n",
        "    # print(\"Strategy P&L: Ticks\", (back.getResult()-back.startingMoney)/back.tickValue)\r\n",
        "    # print(\"Total Trades: \", (tradeAnalyzer.getCount()))\r\n",
        "    # print(\"Unprofitable Trades: \", (tradeAnalyzer.getUnprofitableCount()))\r\n",
        "    # print(\"Profitable Trades: \", (tradeAnalyzer.getProfitableCount()))\r\n",
        "    # print(\"Break-Even Trades: \", (tradeAnalyzer.getEvenCount()))\r\n",
        "\r\n",
        "    log_df = metrics(tradeAnalyzer, back, sharpeAnalyzer, drawdownAnalyzer, retAnalyzer)\r\n",
        "\r\n",
        "    trades_pnl = tradeAnalyzer.getAll()\r\n",
        "    trades_ret = tradeAnalyzer.getAllReturns()\r\n",
        "\r\n",
        "    if plot:\r\n",
        "        plt.plot()\r\n",
        "        cumulativeReturnsPlot(cumRet)\r\n",
        "\r\n",
        "    if back.saveTradeLog:\r\n",
        "        return trades_pnl, trades_ret, cumRet, log_df, back.trade_log\r\n",
        "    else:\r\n",
        "        return trades_pnl, trades_ret, cumRet, log_df"
      ],
      "execution_count": 4,
      "outputs": []
    },
    {
      "cell_type": "code",
      "metadata": {
        "id": "Xl7Vi3mAfoME"
      },
      "source": [
        "pnl, ret, cum_ret, logs = testStrategy(False, path = '/gdrive/My Drive/Data/30min/Mar17.csv')"
      ],
      "execution_count": 21,
      "outputs": []
    },
    {
      "cell_type": "code",
      "metadata": {
        "colab": {
          "base_uri": "https://localhost:8080/"
        },
        "id": "cq661akmIO31",
        "outputId": "9e70a8c6-4cc6-4f44-9b0e-0416034aeae3"
      },
      "source": [
        "# mypath = '/gdrive/My Drive/Data/1min/'\r\n",
        "# onlyfiles = [f for f in listdir(mypath) if isfile(join(mypath, f))]\r\n",
        "onlyfiles = ['Mar15.csv','May15.csv','Jul15.csv','Aug15.csv','Sep15.csv','Nov15.csv',\r\n",
        "'Jan16.csv','Mar16.csv','May16.csv','Jul16.csv','Aug16.csv','Sep16.csv','Nov16.csv',\r\n",
        "'Jan17.csv','Mar17.csv','May17.csv','Jul17.csv','Aug17.csv','Sep17.csv','Nov17.csv',\r\n",
        "'Jan18.csv','Mar18.csv','May18.csv','Jul18.csv','Aug18.csv','Sep18.csv','Nov18.csv',\r\n",
        "'Jan19.csv','Mar19.csv','May19.csv','Jul19.csv','Aug19.csv','Sep19.csv','Nov19.csv',\r\n",
        "'Jan20.csv','Mar20.csv','May20.csv','Jul20.csv','Aug20.csv','Sep20.csv','Nov20.csv',\r\n",
        "'Jan21.csv','Mar21.csv','May21.csv','Jul21.csv','Aug21.csv']\r\n",
        "\r\n",
        "all_df = {}\r\n",
        "p_list = ['30min']\r\n",
        "for per in p_list:\r\n",
        "  print(per)\r\n",
        "  all_df = {}\r\n",
        "  mypath = '/gdrive/My Drive/Data/' + per +'/'\r\n",
        "  for i in tqdm(range(0, len(onlyfiles))):\r\n",
        "    input_path = mypath + onlyfiles[i]\r\n",
        "    pnl, ret, cum_ret, logs, trade_signals  = testStrategy(False, path = input_path)\r\n",
        "\r\n",
        "  # save_path = '/gdrive/My Drive/Data/BORSISO/' + onlyfiles[i]\r\n",
        "  # logs.to_csv(save_path)\r\n",
        "  \r\n",
        "    all_df[onlyfiles[i].split('.')[0]] = logs\r\n",
        "\r\n",
        "    signal_df = saveLogs(trade_signals, save_path= '/gdrive/My Drive/Data/BORSISO/trade_signals/',\r\n",
        "                         input_path = input_path,\r\n",
        "                         contract_name = onlyfiles[i],\r\n",
        "                         returnSignals=True)\r\n",
        "    \r\n",
        "    savePlots(cum_ret, '/gdrive/My Drive/Data/BORSISO/trade_signals/',\r\n",
        "              per,\r\n",
        "              onlyfiles[i])\r\n",
        "\r\n",
        "trade_df = pd.DataFrame(all_df)\r\n",
        "trade_df.to_csv('/gdrive/My Drive/Data/BORSISO/backtest_result_test_payup0_'+ per + 's.csv')"
      ],
      "execution_count": 5,
      "outputs": [
        {
          "output_type": "stream",
          "text": [
            "\r  0%|          | 0/46 [00:00<?, ?it/s]"
          ],
          "name": "stderr"
        },
        {
          "output_type": "stream",
          "text": [
            "30min\n"
          ],
          "name": "stdout"
        },
        {
          "output_type": "stream",
          "text": [
            "2021-03-03 21:53:04,550 numexpr.utils [INFO] NumExpr defaulting to 2 threads.\n",
            "100%|██████████| 46/46 [02:37<00:00,  3.42s/it]\n"
          ],
          "name": "stderr"
        }
      ]
    },
    {
      "cell_type": "code",
      "metadata": {
        "id": "2TaH0t9Jj5gG"
      },
      "source": [
        "import numpy as np\r\n",
        "\r\n",
        "vals = np.unique(pnl,return_counts=True)\r\n",
        "\r\n",
        "plt.bar(vals[0],vals[1], width=0.5)"
      ],
      "execution_count": null,
      "outputs": []
    },
    {
      "cell_type": "code",
      "metadata": {
        "id": "R4rKQW9eiEqJ"
      },
      "source": [
        "for i in range(0,len(pnl)):\r\n",
        "  if pnl[i]>0:\r\n",
        "    plt.bar(i,pnl[i], color='green')\r\n",
        "\r\n",
        "  if pnl[i]<0:\r\n",
        "    plt.bar(i,pnl[i], color='red')\r\n",
        "\r\n",
        "  if pnl[i]==0:\r\n",
        "    plt.bar(i,pnl[i], color='black')\r\n",
        "\r\n",
        "plt.show()"
      ],
      "execution_count": null,
      "outputs": []
    },
    {
      "cell_type": "code",
      "metadata": {
        "id": "GuBIatKDCSoQ"
      },
      "source": [
        "resultsDf =  readBacktestResults('/gdrive/My Drive/Data/BORSISO/backtest_result_30mins.csv')"
      ],
      "execution_count": 6,
      "outputs": []
    },
    {
      "cell_type": "code",
      "metadata": {
        "colab": {
          "base_uri": "https://localhost:8080/",
          "height": 376
        },
        "id": "SJ9tbE3GHFza",
        "outputId": "38658eed-ff6f-4c0d-ae5c-ca4c106cb209"
      },
      "source": [
        "fig = plt.figure(figsize=[10,4])\r\n",
        "ax = fig.add_axes([0,0,1,1])\r\n",
        "resultsDf['P/L Ticks'].groupby(resultsDf.index.year).mean().plot(kind='bar')"
      ],
      "execution_count": 7,
      "outputs": [
        {
          "output_type": "execute_result",
          "data": {
            "text/plain": [
              "<matplotlib.axes._axes.Axes at 0x7f38b1d13b10>"
            ]
          },
          "metadata": {
            "tags": []
          },
          "execution_count": 7
        },
        {
          "output_type": "display_data",
          "data": {
            "image/png": "[encoded data removed]",
            "text/plain": [
              "<Figure size 720x288 with 1 Axes>"
            ]
          },
          "metadata": {
            "tags": []
          }
        }
      ]
    },
    {
      "cell_type": "code",
      "metadata": {
        "id": "iouvEf0wxt74"
      },
      "source": [
        "fig = plt.figure(figsize=[10,4])\r\n",
        "ax = fig.add_axes([0,0,1,1])\r\n",
        "res['P/L Ticks'].plot(kind='bar')"
      ],
      "execution_count": null,
      "outputs": []
    },
    {
      "cell_type": "code",
      "metadata": {
        "colab": {
          "base_uri": "https://localhost:8080/",
          "height": 360
        },
        "id": "vWuWVqPkLR53",
        "outputId": "07b5b862-6b25-4bc2-bbc6-e2aab8027c3d"
      },
      "source": [
        "fig = plt.figure(figsize=[10,4])\r\n",
        "ax = fig.add_axes([0,0,1,1])\r\n",
        "res['P/L Ticks'].groupby(res.index.month).mean().plot(kind='bar')"
      ],
      "execution_count": null,
      "outputs": [
        {
          "output_type": "execute_result",
          "data": {
            "text/plain": [
              "<matplotlib.axes._axes.Axes at 0x7f6091101810>"
            ]
          },
          "metadata": {
            "tags": []
          },
          "execution_count": 60
        },
        {
          "output_type": "display_data",
          "data": {
            "image/png": "[encoded data removed]",
            "text/plain": [
              "<Figure size 720x288 with 1 Axes>"
            ]
          },
          "metadata": {
            "tags": []
          }
        }
      ]
    }
  ]
}